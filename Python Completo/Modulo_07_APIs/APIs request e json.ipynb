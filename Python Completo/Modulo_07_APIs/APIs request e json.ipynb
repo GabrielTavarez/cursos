{
 "cells": [
  {
   "cell_type": "markdown",
   "id": "28a928b2",
   "metadata": {},
   "source": [
    "# API\n",
    "\n",
    "Conjunto de ferramentas de comunicação entre plataformas. \n",
    "\n",
    "## APIs JSON\n",
    "\n",
    "Usando a biblioteca **requests** e **json** é possível extrair uma requisição web de uma API e ler o resultado json dela\n",
    "\n",
    "Função ``request.get(link)`` acessa um link e retorna a resposta desse request. <br>\n",
    "Função ``request_obj.json()`` transforma o request em um dicionário. (todos os objetos json viram dicionários) "
   ]
  },
  {
   "cell_type": "code",
   "execution_count": 1,
   "id": "0929358e",
   "metadata": {},
   "outputs": [
    {
     "name": "stdout",
     "output_type": "stream",
     "text": [
      "{'code': 'USD', 'codein': 'BRL', 'name': 'Dólar Americano/Real Brasileiro', 'high': '5.7108', 'low': '5.638', 'varBid': '0.0011', 'pctChange': '0.02', 'bid': '5.6825', 'ask': '5.6832', 'timestamp': '1641331120', 'create_date': '2022-01-04 18:18:40'}\n"
     ]
    }
   ],
   "source": [
    "import requests\n",
    "import json\n",
    "\n",
    "cotacoes = requests.get(\"https://economia.awesomeapi.com.br/json/all\")\n",
    "\n",
    "cotacoes_dic = cotacoes.json() #retorna um dicionário de dicionários\n",
    "print(cotacoes_dic['USD'])"
   ]
  },
  {
   "cell_type": "code",
   "execution_count": 2,
   "id": "c1fdf1c6",
   "metadata": {},
   "outputs": [
    {
     "name": "stdout",
     "output_type": "stream",
     "text": [
      "Cotação dólar: $ 5.6825\n",
      "Cotação euro: $ 6.4104\n"
     ]
    }
   ],
   "source": [
    "#COTAÇÕES\n",
    "print(\"Cotação dólar: $\",cotacoes_dic['USD']['bid'])\n",
    "print(\"Cotação euro: $\",cotacoes_dic['EUR']['bid'])"
   ]
  },
  {
   "cell_type": "markdown",
   "id": "d6dd85fd",
   "metadata": {},
   "source": [
    "## API com login\n",
    "\n"
   ]
  },
  {
   "cell_type": "code",
   "execution_count": 4,
   "id": "6c597dee",
   "metadata": {},
   "outputs": [],
   "source": [
    "from twilio.rest import Client\n",
    "\n",
    "account_sid = 'AC478ec161f415c9d3bd6cbccb5367b893'\n",
    "token = 'b7266bc8fad1ef1fcbfe85b9e206b44a'\n",
    "\n",
    "client = Client(account_sid, token)\n",
    "\n",
    "remetente = '+14133627630'\n",
    "destino = '+55 11 96150 1893'\n",
    "\n",
    "message = client.messages.create(to=destino, from_ = remetente, body = \"Teste SMS\")"
   ]
  }
 ],
 "metadata": {
  "kernelspec": {
   "display_name": "Python 3",
   "language": "python",
   "name": "python3"
  },
  "language_info": {
   "codemirror_mode": {
    "name": "ipython",
    "version": 3
   },
   "file_extension": ".py",
   "mimetype": "text/x-python",
   "name": "python",
   "nbconvert_exporter": "python",
   "pygments_lexer": "ipython3",
   "version": "3.8.8"
  }
 },
 "nbformat": 4,
 "nbformat_minor": 5
}
