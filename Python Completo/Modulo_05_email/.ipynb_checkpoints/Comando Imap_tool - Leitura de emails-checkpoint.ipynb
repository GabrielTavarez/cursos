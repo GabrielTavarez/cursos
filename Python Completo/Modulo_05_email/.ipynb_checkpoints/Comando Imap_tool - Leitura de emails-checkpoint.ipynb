{
 "cells": [
  {
   "cell_type": "markdown",
   "id": "d7991a74",
   "metadata": {},
   "source": [
    "# Leitura de emails\n",
    "\n",
    "Biblioteca **imap_tools**. Imap é um protocolo de acesso de emails\n",
    "\n",
    "É necessário liberar acesso segurança para app menos seguros no google"
   ]
  },
  {
   "cell_type": "code",
   "execution_count": 5,
   "id": "5d45c548",
   "metadata": {},
   "outputs": [],
   "source": [
    "from imap_tools import MailBox, AND, OR, NOT"
   ]
  },
  {
   "cell_type": "markdown",
   "id": "d68a8e76",
   "metadata": {},
   "source": [
    "Para acessar a caixa de email, é necessário usar o protocolo IMAP no endereço do servidor do gerenciador de emails.\n",
    "\n",
    "https://www.systoolsgroup.com/imap/"
   ]
  },
  {
   "cell_type": "code",
   "execution_count": 28,
   "id": "8d84f81d",
   "metadata": {},
   "outputs": [],
   "source": [
    "usuario = \"gabriel.tavarez@usp.br\"\n",
    "senha = \"@123quatro\"\n",
    "\n",
    "meu_email = MailBox(\"imap.gmail.com\").login(usuario,senha)"
   ]
  },
  {
   "cell_type": "markdown",
   "id": "be5d5a95",
   "metadata": {},
   "source": [
    "## Método de filtro de emails\n",
    "\n",
    "Método **.fetch( )** retorna um lista de emails na caixa de email\n",
    "\n",
    "Pode aplicar parâmetros de filtros de emails\n",
    " * from_ -> string de remetente do email\n",
    " * subject -> string de assunto do email\n",
    "\n",
    "\n",
    "Documentação com todos os critério -> https://pypi.org/project/imap-tools/ "
   ]
  },
  {
   "cell_type": "markdown",
   "id": "b331568f",
   "metadata": {},
   "source": [
    "## Acessar email recebidos por um remetente"
   ]
  },
  {
   "cell_type": "code",
   "execution_count": 40,
   "id": "b6ff74b9",
   "metadata": {},
   "outputs": [],
   "source": [
    "lista_emails = meu_email.fetch(AND(from_=\"gabriel.tavaresferrarez@gmail.com\"))"
   ]
  },
  {
   "cell_type": "markdown",
   "id": "67bba102",
   "metadata": {},
   "source": [
    "Lista de email é um objeto percorrível em um loop **for**\n",
    "\n",
    "Cada item da lista é um **mail**\n",
    "\n",
    "É possível acessar os atributos do email na documentação\n",
    "* .text -> retorna o texto do corpo do email\n",
    "* .subject -> retorna o assunto do email\n",
    "* .\n",
    "\n",
    "\n",
    "https://pypi.org/project/imap-tools/"
   ]
  },
  {
   "cell_type": "code",
   "execution_count": 33,
   "id": "f9dfe04c",
   "metadata": {},
   "outputs": [],
   "source": [
    "for mail in lista_emails:\n",
    "    print(mail.subject)"
   ]
  },
  {
   "cell_type": "markdown",
   "id": "99a97725",
   "metadata": {},
   "source": [
    "## Acessando anexos de email\n",
    "\n",
    "Após pegar uma lista de email com algum dos critérios existentes é possível percorrer os email procurando alguma informação específica. Por exemplo, procurar algum assunto específico ou emails que tenham algum anexo específico.\n",
    "\n",
    "Cada email tem uma lista de anexos (que pode estar vazia se não houver nada). Cada anexo nessa lista de anexos tem vários atributos.\n",
    "\n",
    "**Baixar anexo na máquina**\n",
    "\n",
    "Não existe um método de download direto!\n",
    "\n",
    "É necessário guardar o arquivo binário do anexo (payload) em uma variavel e depois reconstruir este arquivo a partir do binário em seu computador com \n",
    "\n",
    "```open(anexo.filename, \"wb\")```\n",
    "\n",
    "Parâmetro **\"wb\"** significa escrever em binário no arquivo."
   ]
  },
  {
   "cell_type": "code",
   "execution_count": 45,
   "id": "951d599f",
   "metadata": {},
   "outputs": [
    {
     "name": "stdout",
     "output_type": "stream",
     "text": [
      "Achou um email com anexos\n",
      "Assunto: Documento de Gabriel Tavarez\n",
      "Achou um anexo no email\n",
      "Anexo: Relatório PEA3100.docx\n",
      "_____________________\n",
      "Achou um email com anexos\n",
      "Assunto: Log book\n",
      "Achou um anexo no email\n",
      "Anexo: EPSON020.jpg\n",
      "Achou um anexo no email\n",
      "Anexo: EPSON017.jpg\n",
      "Achou um anexo no email\n",
      "Anexo: EPSON016.jpg\n",
      "Achou um anexo no email\n",
      "Anexo: EPSON022.jpg\n",
      "_____________________\n",
      "Achou um email com anexos\n",
      "Assunto: Documento de Gabriel Tavarez\n",
      "Achou um anexo no email\n",
      "Anexo: Guia  Experimental e Roteiro Semestral Exp_02_Versao_4_2019\n",
      "_____________________\n",
      "Achou um email com anexos\n",
      "Assunto: Foto de Gabriel Tavarez\n",
      "Achou um anexo no email\n",
      "Anexo: IMG-20190409-WA0024.jpg\n",
      "_____________________\n",
      "Achou um email com anexos\n",
      "Assunto: \n",
      "Achou um anexo no email\n",
      "Anexo: Project Capture (2).jpg\n",
      "_____________________\n",
      "Achou um email com anexos\n",
      "Assunto: Foto\n",
      "Achou um anexo no email\n",
      "Anexo: PicsArt_04-30-02.58.21.jpg\n",
      "Achou email da foto\n",
      "Fez arquivo na maquina local\n",
      "_____________________\n",
      "Achou um email com anexos\n",
      "Assunto: Fwd: Foto\n",
      "Achou um anexo no email\n",
      "Anexo: PicsArt_04-30-03.08.35.jpg\n",
      "Achou email da foto\n",
      "Fez arquivo na maquina local\n",
      "_____________________\n"
     ]
    }
   ],
   "source": [
    "lista_emails = meu_email.fetch(AND(from_=\"gabriel.tavaresferrarez@gmail.com\"))\n",
    "\n",
    "for mail in lista_emails: #acessa todos os emails da lista de emails recebidos\n",
    "    \n",
    "    if len(mail.attachments) > 0: # acessa os email que tem algum anexo\n",
    "        print(\"Achou um email com anexos\")\n",
    "        print(\"Assunto:\", mail.subject)\n",
    "        \n",
    "        for anexo in mail.attachments: #acessa os anexos deste email\n",
    "            print(\"Achou um anexo no email\")\n",
    "            print(\"Anexo:\", anexo.filename)\n",
    "            \n",
    "            if \"PicsArt\" in anexo.filename: #verifica se o anexo tem o nome desejado\n",
    "                binario_anexo = anexo.payload #guarda o binário do arquivo\n",
    "                print(\"Achou email da foto\")\n",
    "                with open(anexo.filename, \"wb\") as arquivo: #abre/cria um arquivo em modo de escrita binária\n",
    "                    arquivo.write(binario_anexo) #escreve/salva o conteudo no computador\n",
    "                    print(\"Fez arquivo na maquina local\")\n",
    "            \n",
    "        print(\"_____________________\")"
   ]
  },
  {
   "cell_type": "code",
   "execution_count": 31,
   "id": "4d656bab",
   "metadata": {},
   "outputs": [
    {
     "name": "stdout",
     "output_type": "stream",
     "text": [
      "a 2\n"
     ]
    }
   ],
   "source": []
  }
 ],
 "metadata": {
  "kernelspec": {
   "display_name": "Python 3",
   "language": "python",
   "name": "python3"
  },
  "language_info": {
   "codemirror_mode": {
    "name": "ipython",
    "version": 3
   },
   "file_extension": ".py",
   "mimetype": "text/x-python",
   "name": "python",
   "nbconvert_exporter": "python",
   "pygments_lexer": "ipython3",
   "version": "3.8.8"
  }
 },
 "nbformat": 4,
 "nbformat_minor": 5
}
