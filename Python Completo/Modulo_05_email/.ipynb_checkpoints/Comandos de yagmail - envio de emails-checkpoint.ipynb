{
 "cells": [
  {
   "cell_type": "markdown",
   "id": "da1e668e",
   "metadata": {},
   "source": [
    "# Integração gmail"
   ]
  },
  {
   "cell_type": "markdown",
   "id": "bf839437",
   "metadata": {},
   "source": [
    "Precisa ativar a segurança do gmail\n",
    "\n",
    "Gerenciar conta do google -> segurança -> Acesso a app menos seguro -> Ativar"
   ]
  },
  {
   "cell_type": "code",
   "execution_count": 1,
   "id": "46c2a648",
   "metadata": {},
   "outputs": [],
   "source": [
    "import yagmail"
   ]
  },
  {
   "cell_type": "markdown",
   "id": "fd0953d5",
   "metadata": {},
   "source": [
    "email usa criptografia SMTP\n",
    "\n",
    "``yagmail.SMTP(user = [\"usuarios@gmail.com\", \"usuario2@gmail.com\"], password = \"seenha\")``"
   ]
  },
  {
   "cell_type": "code",
   "execution_count": 9,
   "id": "d0e987ca",
   "metadata": {},
   "outputs": [],
   "source": [
    "usuario = yagmail.SMTP(user = 'gabriel.tavarez@usp.br', password = '@123quatro')"
   ]
  },
  {
   "cell_type": "markdown",
   "id": "1bc343c2",
   "metadata": {},
   "source": [
    "## Enviar emails"
   ]
  },
  {
   "cell_type": "markdown",
   "id": "11724aa8",
   "metadata": {},
   "source": [
    "enviar email com método **.send( )**\n",
    "\n",
    "``usuario.send(to =\"destinatario@gmail.com\", subject = \"assunto\", contents = \"texto\")``"
   ]
  },
  {
   "cell_type": "code",
   "execution_count": 11,
   "id": "afb74a5a",
   "metadata": {},
   "outputs": [],
   "source": [
    "assunto = \"Email teste de python\"\n",
    "conteudo = \"Este é um email teste de python \\nIgnore-o\"\n",
    "\n",
    "#linha comentada para não me spammar em teste\n",
    "#usuario.send(to=\"gabriel.tavaresferrarez@gmail.com\", subject = assunto , contents = conteudo)"
   ]
  },
  {
   "cell_type": "markdown",
   "id": "ffddbb68",
   "metadata": {},
   "source": [
    "## Anexos\n",
    "\n",
    "parametro **attachments = [\"anexo1\", \"anexo2\"]** \n",
    "\n",
    "obs. parâmetro recebe um caminho do arquivo de envio"
   ]
  },
  {
   "cell_type": "code",
   "execution_count": 15,
   "id": "376d6ba0",
   "metadata": {},
   "outputs": [
    {
     "data": {
      "text/plain": [
       "{}"
      ]
     },
     "execution_count": 15,
     "metadata": {},
     "output_type": "execute_result"
    }
   ],
   "source": [
    "anexo_teste = \"teste de anexo.txt\"\n",
    "\n",
    "#comentado pra não me spammar em teste\n",
    "#usuario.send(to=\"gabriel.tavaresferrarez@gmail.com\", subject=\"teste anexo\", contents = \"teste de anexo testo\", \\\n",
    "#            attachments = anexo_teste)"
   ]
  },
  {
   "cell_type": "markdown",
   "id": "70358263",
   "metadata": {},
   "source": [
    "## Conteúdo personalizado\n",
    "\n",
    "Usando lista de frases e método **.join( )**\n",
    "\n",
    "Usando uma string de muitas linhas usando 3 aspas **'''texto'''**\n",
    "\n",
    "Também é possivel usar a formatação HTMl no corpo do texto. Assim pode enviar email personalizados"
   ]
  },
  {
   "cell_type": "code",
   "execution_count": 23,
   "id": "14a4019f",
   "metadata": {},
   "outputs": [],
   "source": [
    "#primeira forma\n",
    "corpo_email = [\"olá destinatario\",\n",
    "              \"este é um email teste\",\n",
    "              \"att,\",\n",
    "              \"Gabriel\"]\n",
    "corpo_email = \"\\n\".join(corpo_email)"
   ]
  },
  {
   "cell_type": "code",
   "execution_count": 22,
   "id": "7f8a9127",
   "metadata": {},
   "outputs": [],
   "source": [
    "corpo_email = '''\n",
    "<p> Ola destinatário <p>\n",
    "<p> Este é um email teste <p>\n",
    "'''"
   ]
  },
  {
   "cell_type": "markdown",
   "id": "589606bc",
   "metadata": {},
   "source": [
    "## Parâmetros\n",
    "\n",
    "**.send( )**\n",
    " * to -> lista de emails destinatários\n",
    " * subject -> assunto em string\n",
    " * contents -> conteudos do emails\n",
    " * cc -> lista de email em cópia\n",
    " * bcc -> lista de emails em cópia oculta\n",
    " * attachments -> lista de caminhos de arquivos anexos"
   ]
  },
  {
   "cell_type": "markdown",
   "id": "b56092e4",
   "metadata": {},
   "source": [
    "# Integração Outlook\n",
    "\n",
    "Usa biblioteca **win32com** para controlar aplicativos do windows e abrir o outlook no computador"
   ]
  },
  {
   "cell_type": "code",
   "execution_count": 27,
   "id": "032124cd",
   "metadata": {},
   "outputs": [],
   "source": [
    "import win32com.client as win32\n",
    "outlook = win32.Dispatch('outlook.application') #abre uma instância do outlook"
   ]
  },
  {
   "cell_type": "code",
   "execution_count": 29,
   "id": "66f766fc",
   "metadata": {},
   "outputs": [
    {
     "ename": "AttributeError",
     "evalue": "outlook.application.CreatItem",
     "output_type": "error",
     "traceback": [
      "\u001b[1;31m---------------------------------------------------------------------------\u001b[0m",
      "\u001b[1;31mAttributeError\u001b[0m                            Traceback (most recent call last)",
      "\u001b[1;32m<ipython-input-29-72d61f7b21e1>\u001b[0m in \u001b[0;36m<module>\u001b[1;34m\u001b[0m\n\u001b[1;32m----> 1\u001b[1;33m \u001b[0mmail\u001b[0m \u001b[1;33m=\u001b[0m \u001b[0moutlook\u001b[0m\u001b[1;33m.\u001b[0m\u001b[0mCreatItem\u001b[0m\u001b[1;33m(\u001b[0m\u001b[1;36m0\u001b[0m\u001b[1;33m)\u001b[0m\u001b[1;33m\u001b[0m\u001b[1;33m\u001b[0m\u001b[0m\n\u001b[0m\u001b[0;32m      2\u001b[0m \u001b[0mmail\u001b[0m\u001b[1;33m.\u001b[0m\u001b[0mTo\u001b[0m \u001b[1;33m=\u001b[0m \u001b[1;34m'destinatario@gmail.com'\u001b[0m\u001b[1;33m\u001b[0m\u001b[1;33m\u001b[0m\u001b[0m\n\u001b[0;32m      3\u001b[0m \u001b[0mmail\u001b[0m\u001b[1;33m.\u001b[0m\u001b[0mSubject\u001b[0m \u001b[1;33m=\u001b[0m \u001b[1;34m'Assunto do email'\u001b[0m\u001b[1;33m\u001b[0m\u001b[1;33m\u001b[0m\u001b[0m\n\u001b[0;32m      4\u001b[0m \u001b[0mmail\u001b[0m\u001b[1;33m.\u001b[0m\u001b[0mBody\u001b[0m \u001b[1;33m=\u001b[0m \u001b[1;34m'Texto do email'\u001b[0m\u001b[1;33m\u001b[0m\u001b[1;33m\u001b[0m\u001b[0m\n\u001b[0;32m      5\u001b[0m \u001b[1;31m#mail.HTMLBody = \"<p>Conteúdo em HTML do email<//p>\"\u001b[0m\u001b[1;33m\u001b[0m\u001b[1;33m\u001b[0m\u001b[1;33m\u001b[0m\u001b[0m\n",
      "\u001b[1;32m~\\anaconda3\\lib\\site-packages\\win32com\\client\\dynamic.py\u001b[0m in \u001b[0;36m__getattr__\u001b[1;34m(self, attr)\u001b[0m\n\u001b[0;32m    525\u001b[0m \u001b[1;33m\u001b[0m\u001b[0m\n\u001b[0;32m    526\u001b[0m                 \u001b[1;31m# no where else to look.\u001b[0m\u001b[1;33m\u001b[0m\u001b[1;33m\u001b[0m\u001b[1;33m\u001b[0m\u001b[0m\n\u001b[1;32m--> 527\u001b[1;33m                 \u001b[1;32mraise\u001b[0m \u001b[0mAttributeError\u001b[0m\u001b[1;33m(\u001b[0m\u001b[1;34m\"%s.%s\"\u001b[0m \u001b[1;33m%\u001b[0m \u001b[1;33m(\u001b[0m\u001b[0mself\u001b[0m\u001b[1;33m.\u001b[0m\u001b[0m_username_\u001b[0m\u001b[1;33m,\u001b[0m \u001b[0mattr\u001b[0m\u001b[1;33m)\u001b[0m\u001b[1;33m)\u001b[0m\u001b[1;33m\u001b[0m\u001b[1;33m\u001b[0m\u001b[0m\n\u001b[0m\u001b[0;32m    528\u001b[0m \u001b[1;33m\u001b[0m\u001b[0m\n\u001b[0;32m    529\u001b[0m         \u001b[1;32mdef\u001b[0m \u001b[0m__setattr__\u001b[0m\u001b[1;33m(\u001b[0m\u001b[0mself\u001b[0m\u001b[1;33m,\u001b[0m \u001b[0mattr\u001b[0m\u001b[1;33m,\u001b[0m \u001b[0mvalue\u001b[0m\u001b[1;33m)\u001b[0m\u001b[1;33m:\u001b[0m\u001b[1;33m\u001b[0m\u001b[1;33m\u001b[0m\u001b[0m\n",
      "\u001b[1;31mAttributeError\u001b[0m: outlook.application.CreatItem"
     ]
    }
   ],
   "source": [
    "mail = outlook.CreatItem(0)\n",
    "mail.To = 'destinatario@gmail.com'\n",
    "mail.cc = 'destinatariocopia@gmail.com'\n",
    "mail.bcc = 'destinatatiocopioculta@gmail.com'\n",
    "mail.Subject = 'Assunto do email'\n",
    "mail.Body = 'Texto do email'\n",
    "#mail.HTMLBody = \"<p>Conteúdo em HTML do email<//p>\"\n",
    "mail.Attachments = r\"c:\\Users\\gabriel\\Documents\\teste de anexo.txt\"\n",
    "\n",
    "mail.send()\n"
   ]
  }
 ],
 "metadata": {
  "kernelspec": {
   "display_name": "Python 3",
   "language": "python",
   "name": "python3"
  },
  "language_info": {
   "codemirror_mode": {
    "name": "ipython",
    "version": 3
   },
   "file_extension": ".py",
   "mimetype": "text/x-python",
   "name": "python",
   "nbconvert_exporter": "python",
   "pygments_lexer": "ipython3",
   "version": "3.8.8"
  }
 },
 "nbformat": 4,
 "nbformat_minor": 5
}
