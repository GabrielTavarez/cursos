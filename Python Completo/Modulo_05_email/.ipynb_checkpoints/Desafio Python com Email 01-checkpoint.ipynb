{
 "cells": [
  {
   "cell_type": "markdown",
   "metadata": {},
   "source": [
    "# Desafio Python e E-mail\n",
    "\n",
    "### Descrição\n",
    "\n",
    "Digamos que você trabalha em uma indústria e está responsável pela área de inteligência de negócio.\n",
    "\n",
    "Todo dia, você, a equipe ou até mesmo um programa, gera um report diferente para cada área da empresa:\n",
    "- Financeiro\n",
    "- Logística\n",
    "- Manutenção\n",
    "- Marketing\n",
    "- Operações\n",
    "- Produção\n",
    "- Vendas\n",
    "\n",
    "Cada um desses reports deve ser enviado por e-mail para o Gerente de cada Área.\n",
    "\n",
    "Crie um programa que faça isso automaticamente. A relação de Gerentes (com seus respectivos e-mails) e áreas está no arquivo 'Enviar E-mails.xlsx'.\n",
    "\n",
    "Dica: Use o pandas read_excel para ler o arquivo dos e-mails que isso vai facilitar."
   ]
  },
  {
   "cell_type": "code",
   "execution_count": 1,
   "metadata": {},
   "outputs": [],
   "source": [
    "import yagmail\n",
    "import pandas as pd"
   ]
  },
  {
   "cell_type": "code",
   "execution_count": 5,
   "metadata": {},
   "outputs": [
    {
     "data": {
      "text/html": [
       "<div>\n",
       "<style scoped>\n",
       "    .dataframe tbody tr th:only-of-type {\n",
       "        vertical-align: middle;\n",
       "    }\n",
       "\n",
       "    .dataframe tbody tr th {\n",
       "        vertical-align: top;\n",
       "    }\n",
       "\n",
       "    .dataframe thead th {\n",
       "        text-align: right;\n",
       "    }\n",
       "</style>\n",
       "<table border=\"1\" class=\"dataframe\">\n",
       "  <thead>\n",
       "    <tr style=\"text-align: right;\">\n",
       "      <th></th>\n",
       "      <th>Gerente</th>\n",
       "      <th>E-mail</th>\n",
       "      <th>Relatório</th>\n",
       "    </tr>\n",
       "  </thead>\n",
       "  <tbody>\n",
       "    <tr>\n",
       "      <th>0</th>\n",
       "      <td>Lira</td>\n",
       "      <td>gabriel.tavaresferrarezanuncios+1@gmail.com</td>\n",
       "      <td>Vendas</td>\n",
       "    </tr>\n",
       "    <tr>\n",
       "      <th>1</th>\n",
       "      <td>Julia</td>\n",
       "      <td>gabriel.tavaresferrarezanuncios+2@gmail.com</td>\n",
       "      <td>Produção</td>\n",
       "    </tr>\n",
       "    <tr>\n",
       "      <th>2</th>\n",
       "      <td>José</td>\n",
       "      <td>gabriel.tavaresferrarezanuncios+3@gmail.com</td>\n",
       "      <td>Manutenção</td>\n",
       "    </tr>\n",
       "    <tr>\n",
       "      <th>3</th>\n",
       "      <td>Gustavo</td>\n",
       "      <td>gabriel.tavaresferrarezanuncios+4@gmail.com</td>\n",
       "      <td>Operações</td>\n",
       "    </tr>\n",
       "    <tr>\n",
       "      <th>4</th>\n",
       "      <td>Ana</td>\n",
       "      <td>gabriel.tavaresferrarezanuncios+5@gmail.com</td>\n",
       "      <td>Logística</td>\n",
       "    </tr>\n",
       "    <tr>\n",
       "      <th>5</th>\n",
       "      <td>Paula</td>\n",
       "      <td>gabriel.tavaresferrarezanuncios+6@gmail.com</td>\n",
       "      <td>Financeiro</td>\n",
       "    </tr>\n",
       "    <tr>\n",
       "      <th>6</th>\n",
       "      <td>Maria</td>\n",
       "      <td>gabriel.tavaresferrarezanuncios+7@gmail.com</td>\n",
       "      <td>Marketing</td>\n",
       "    </tr>\n",
       "  </tbody>\n",
       "</table>\n",
       "</div>"
      ],
      "text/plain": [
       "   Gerente                                       E-mail   Relatório\n",
       "0     Lira  gabriel.tavaresferrarezanuncios+1@gmail.com      Vendas\n",
       "1    Julia  gabriel.tavaresferrarezanuncios+2@gmail.com    Produção\n",
       "2     José  gabriel.tavaresferrarezanuncios+3@gmail.com  Manutenção\n",
       "3  Gustavo  gabriel.tavaresferrarezanuncios+4@gmail.com   Operações\n",
       "4      Ana  gabriel.tavaresferrarezanuncios+5@gmail.com   Logística\n",
       "5    Paula  gabriel.tavaresferrarezanuncios+6@gmail.com  Financeiro\n",
       "6    Maria  gabriel.tavaresferrarezanuncios+7@gmail.com   Marketing"
      ]
     },
     "metadata": {},
     "output_type": "display_data"
    }
   ],
   "source": [
    "email = yagmail.SMTP(user = \"gabriel.tavarez@usp.br\", password = \"@123quatro\")\n",
    "lista_emails = pd.read_excel(\"Enviar E-mails.xlsx\")\n",
    "\n",
    "display(lista_emails)"
   ]
  },
  {
   "cell_type": "code",
   "execution_count": 23,
   "metadata": {},
   "outputs": [],
   "source": [
    "num_emails = lista_emails.shape[0]\n",
    "\n",
    "for i in range(num_emails):\n",
    "    destinatario = lista_emails.loc[i, \"E-mail\"]\n",
    "    assunto = \"Relatorio de \" + lista_emails.loc[i, \"Relatório\"]\n",
    "    texto_email = \"Segue relatório de \" + lista_emails.loc[i, \"Relatório\"] + \"\\n\\nAtt, Gabriel.\"\n",
    "    anexos = lista_emails.loc[i, \"Relatório\"] + \".xlsx\"\n",
    "    email.send(to=destinatario, subject=assunto, contents=texto_email, attachments=anexos)"
   ]
  }
 ],
 "metadata": {
  "kernelspec": {
   "display_name": "Python 3",
   "language": "python",
   "name": "python3"
  },
  "language_info": {
   "codemirror_mode": {
    "name": "ipython",
    "version": 3
   },
   "file_extension": ".py",
   "mimetype": "text/x-python",
   "name": "python",
   "nbconvert_exporter": "python",
   "pygments_lexer": "ipython3",
   "version": "3.8.8"
  }
 },
 "nbformat": 4,
 "nbformat_minor": 4
}
