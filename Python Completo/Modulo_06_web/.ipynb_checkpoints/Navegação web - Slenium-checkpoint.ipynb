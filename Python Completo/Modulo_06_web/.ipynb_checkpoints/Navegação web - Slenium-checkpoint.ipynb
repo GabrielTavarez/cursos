{
 "cells": [
  {
   "cell_type": "markdown",
   "id": "7022fc1e",
   "metadata": {},
   "source": [
    "# SELENIUM\n",
    "\n",
    "https://selenium-python.readthedocs.io/"
   ]
  },
  {
   "cell_type": "markdown",
   "id": "2da249db",
   "metadata": {},
   "source": [
    "## Instalação do webdriver no windows\n",
    "\n",
    "Baixar o Crhome Driver\n",
    "\n",
    "https://chromedriver.chromium.org/downloads\n",
    "\n",
    "Copiar o arquivo.exe na pasta do anaconda do computador (C:\\Users\\gabri\\anaconda3)\n",
    "\n"
   ]
  },
  {
   "cell_type": "markdown",
   "id": "347e9d55",
   "metadata": {},
   "source": [
    "## Usando Selenium no colab\n",
    "\n",
    "O navegador irá rodar na máquina do google, não na sua. Então precisará configurar o navegador\n",
    "\n",
    "\n",
    "**Instalação do Selenium e Webdriver**\n",
    "```\n",
    "!pip install Selenium\n",
    "!apt-get update # to update ubuntu to correctly run apt install\n",
    "!apt install chromium-chromedriver\n",
    "!cp /usr/lib/chromium-browser/chromedriver /usr/bin\n",
    "```\n",
    "\n",
    "**Configuração do Chrome**\n",
    "```\n",
    "import sys\n",
    "sys.path.insert(0,'/usr/lib/chromium-browser/chromedriver')\n",
    "\n",
    "from selenium import webdriver\n",
    "chrome_options = webdriver.ChromeOptions()\n",
    "chrome_options.add_argument('--headless')\n",
    "chrome_options.add_argument('--no-sandbox')\n",
    "chrome_options.add_argument('--disable-dev-shm-usage')\n",
    "wd = webdriver.Chrome('chromedriver',options=chrome_options)\n",
    "\n",
    "wd.get(\"https://www.hashtagtreinamentos.com\")\n",
    "print(wd.title)\n",
    "```\n"
   ]
  },
  {
   "cell_type": "markdown",
   "id": "22fb4af5",
   "metadata": {},
   "source": [
    "## Parâmetros de URL\n",
    "\n",
    "Parâmetros vem no URL depois de **?** e são separado por **&**\n",
    "\n",
    "Parâmetro **q=alguma coisa** é o parâmetro de pesquisa no site. Pode pesquisar um site direto pelo o URL de pesquisa"
   ]
  },
  {
   "cell_type": "markdown",
   "id": "6d4a1a08",
   "metadata": {},
   "source": [
    "## Arquiteturas de sites\n",
    "\n",
    "Para selecionar algo em um site é necessário acessar o código da página para identificar os caminhos dos objetos no cite"
   ]
  },
  {
   "cell_type": "code",
   "execution_count": 14,
   "id": "2d8c117a",
   "metadata": {},
   "outputs": [],
   "source": [
    "from selenium import webdriver\n",
    "import time"
   ]
  },
  {
   "cell_type": "markdown",
   "id": "931d6154",
   "metadata": {},
   "source": [
    "# NAVEGAÇÃO"
   ]
  },
  {
   "cell_type": "markdown",
   "id": "9fe3536f",
   "metadata": {},
   "source": [
    "## Abrindo navegador\n",
    "\n",
    "Comando ```webdriver.Chrome()``` abre o navegador. É possível pasar os parâmetros de configuração do chrome dentro da abertura do navegador."
   ]
  },
  {
   "cell_type": "code",
   "execution_count": 13,
   "id": "b01a1383",
   "metadata": {},
   "outputs": [],
   "source": [
    "driver = webdriver.Chrome() \n",
    "driver.get(\"https://google.com\")"
   ]
  },
  {
   "cell_type": "markdown",
   "id": "bcfc0b2e",
   "metadata": {},
   "source": [
    "* OBS: Para nãoo mostrar a instância do navegador.\n",
    "```\n",
    "chrome_options = webdriver.ChromeOption()\n",
    "chrome_options.add_argument(\"headless\")\n",
    "driver = webdriver.Chrome(options = chrome_options)\n",
    "```"
   ]
  },
  {
   "cell_type": "markdown",
   "id": "02d03708",
   "metadata": {},
   "source": [
    "## Carregamentos na pagina\n",
    "\n",
    "As vezes é necessário esperar a página carregar elementos antes de interagir com ele\n",
    "\n",
    "```python\n",
    "from selenium.webdriver.common.by import By\n",
    "from selenium.webdriver.support.ui import WebDriverWait\n",
    "from selenium.webdriver.support import expected_conditions as EC\n",
    "\n",
    "driver = webdriver.Chrome() #abre chrome\n",
    "driver.get(\"https://www.hashtagtreinamentos.com/\") #abre o site\n",
    "\n",
    "elemento = WebDriverWait(driver, 30).until(EC.presence_of_element_located( (By.CLASS_NAME, \"eicon-close\") ))\n",
    "time.sleep(1) #só pra garantir que o elemento carregou mesmo\n",
    "elemento.click()\n",
    "```\n",
    "\n",
    "* WebDriverWait( driver_navegador, tempo_de_timeout).until(....) <br>\n",
    "* until(Condição que verifica se localizou o elemento)<br>\n",
    "* Condição normalmente vai ser até achar o elemento na página (EC.presence_of_element_located)<br>\n",
    "* EC.presence_of_element_located( (forma_de_localizar, \"caminho do elemento\") )\n",
    "* forma de localizar -> By.CLASS_NAME, By.X_PATH etc..\n",
    "\n",
    "obs. Também é possível fazer usando um **while( )** passando como condição o tamanho da lista de elementos encontrados usando **find_elements**"
   ]
  },
  {
   "cell_type": "markdown",
   "id": "50c515b6",
   "metadata": {},
   "source": [
    "## Métodos de navegação no chrome\n",
    "\n",
    "\n",
    "**Localizar elementos** \n",
    "\n",
    "```elemento = webdriver.get_element_by_class_name(\"classe do elemento\")``` -> retorna um elemento especificado<br>\n",
    "```elemento = webdriver.get_elements_by_class_name(\"classe do elemento\")```-> retorna uma lista de elementos<br>\n",
    "```elemento = webdriver.get_element_by_css_selecto(\"tag.classe\")```<br>\n",
    "```elemento = webdriver.get_elements_by_css_selecto(\"tag.classe\")```<br>\n",
    "```elemento = webdriver.get_element_by_xpath('xpath do elemento')```\n",
    "\n",
    "\n",
    "**Interagir com elementos**\n",
    "\n",
    "```elemento.click()```<br>\n",
    "```elemento.send_keys('Texto para escrever')```<br>\n",
    "```elemento_formulario.submit()``` -> Funciona apenas comformulários <br>\n",
    "\n",
    "**Navegar na página**\n",
    "\n",
    "```driver.execute_script(\"window.scrollTo(0, Y);\") ```\n",
    "\n",
    "**Atributos de elementos HTML**\n",
    "\n",
    "```elemento.get_attribute('atributo')```\n",
    "\n",
    "**Scripts JS**\n",
    "\n",
    "```webdriver.execute_script(\"comando_js;\")```"
   ]
  },
  {
   "cell_type": "code",
   "execution_count": 17,
   "id": "3e2d51b0",
   "metadata": {},
   "outputs": [],
   "source": [
    "from selenium.webdriver.common.by import By\n",
    "from selenium.webdriver.support.ui import WebDriverWait\n",
    "from selenium.webdriver.support import expected_conditions as EC\n",
    "\n",
    "driver = webdriver.Chrome() #abre chrome\n",
    "driver.get(\"https://www.hashtagtreinamentos.com/\") #abre o site\n",
    "\n",
    "elemento = WebDriverWait(driver, 30).until(EC.presence_of_element_located( (By.CLASS_NAME, \"eicon-close\") ))\n",
    "elemento.click()"
   ]
  },
  {
   "cell_type": "markdown",
   "id": "a8979e2a",
   "metadata": {},
   "source": [
    "## Exemplo Msg WhatsApp"
   ]
  },
  {
   "cell_type": "code",
   "execution_count": 1,
   "id": "5f893f72",
   "metadata": {},
   "outputs": [
    {
     "data": {
      "text/html": [
       "<div>\n",
       "<style scoped>\n",
       "    .dataframe tbody tr th:only-of-type {\n",
       "        vertical-align: middle;\n",
       "    }\n",
       "\n",
       "    .dataframe tbody tr th {\n",
       "        vertical-align: top;\n",
       "    }\n",
       "\n",
       "    .dataframe thead th {\n",
       "        text-align: right;\n",
       "    }\n",
       "</style>\n",
       "<table border=\"1\" class=\"dataframe\">\n",
       "  <thead>\n",
       "    <tr style=\"text-align: right;\">\n",
       "      <th></th>\n",
       "      <th>Pessoa</th>\n",
       "      <th>Número</th>\n",
       "      <th>Mensagem</th>\n",
       "    </tr>\n",
       "  </thead>\n",
       "  <tbody>\n",
       "    <tr>\n",
       "      <th>0</th>\n",
       "      <td>Diego</td>\n",
       "      <td>+55 11 97106-3098</td>\n",
       "      <td>Coe, ta doidao?</td>\n",
       "    </tr>\n",
       "    <tr>\n",
       "      <th>1</th>\n",
       "      <td>Alon</td>\n",
       "      <td>+55 11 96888-6612</td>\n",
       "      <td>E aí, tudo bem?</td>\n",
       "    </tr>\n",
       "    <tr>\n",
       "      <th>2</th>\n",
       "      <td>Julia</td>\n",
       "      <td>+55 11 94324-8964</td>\n",
       "      <td>Oi sumida</td>\n",
       "    </tr>\n",
       "  </tbody>\n",
       "</table>\n",
       "</div>"
      ],
      "text/plain": [
       "  Pessoa             Número         Mensagem\n",
       "0  Diego  +55 11 97106-3098  Coe, ta doidao?\n",
       "1   Alon  +55 11 96888-6612  E aí, tudo bem?\n",
       "2  Julia  +55 11 94324-8964        Oi sumida"
      ]
     },
     "metadata": {},
     "output_type": "display_data"
    }
   ],
   "source": [
    "import pandas as pd\n",
    "contatos = pd.read_excel(\"Enviar.xlsx\")\n",
    "display(contatos)"
   ]
  },
  {
   "cell_type": "code",
   "execution_count": null,
   "id": "f5c0b802",
   "metadata": {},
   "outputs": [],
   "source": [
    "from selenium import webdriver\n",
    "from selenium.webdriver.common.keys import Keys\n",
    "import time\n",
    "import urllib\n",
    "\n",
    "nav = webdriver.Chrome()\n",
    "nav.get(\"https://web.whatsapp.com/\")\n",
    "\n",
    "#LOGIN NO ZAP\n",
    "#espera até o whatss carregar de vdd\n",
    "#é necessário scanear o qr code\n",
    "while len(nav.find_elements_by_id(\"side\")==0):\n",
    "    time.sleep(1)\n",
    "\n",
    " #manda mensagem para os numeros\n",
    "for i, mensagem in enumerate(contatos['Mensagem']):\n",
    "    pessoa = contatos.loc[i, 'Pessoa']\n",
    "    numero = contatos.loc[i,'Número']\n",
    "    mensagem_url = urllib.parse.quote(mensagem)\n",
    "    link = f\"https://web.whatsapp.com/send?phone={numero}&text={mensagem_url}\"\n",
    "    \n",
    "    \n",
    "    nav.get(link)\n",
    "    #espera o whatss carregar de novo\n",
    "    while len(nav.find_elements_by_id(\"side\")):\n",
    "        time.sleep(1)\n",
    "    time.sleep(10) #espera carregar tudo\n",
    "    \n",
    "    nav.find_element_by_xpath('//*[@id=\"main\"]/footer/div[1]/div/span[2]/div/div[2]/div[1]/div/div[2]').send_keys(Keys.ENTER)\n",
    "    time.sleep(5)\n",
    "    "
   ]
  },
  {
   "cell_type": "markdown",
   "id": "83cc8343",
   "metadata": {},
   "source": [
    "## Navegação no Youtube\n",
    "\n",
    "Navegar pelo youtube buscando o linkd dos vídeos"
   ]
  },
  {
   "cell_type": "code",
   "execution_count": null,
   "id": "5376f469",
   "metadata": {},
   "outputs": [],
   "source": [
    "from selenium import webdriver\n",
    "from selenium.webdriver.common.keys import Keys \n",
    "import time\n",
    "\n",
    "driver = webdriver.Chrome()\n",
    "\n",
    "driver.get(\"https://youtube.com\")\n",
    "\n",
    "time.sleep(1)\n",
    "driver.find_element_by_name('search_query').send_keys(\"python\")\n",
    "driver.find_element_by_name('search_query').send_keys(Keys.ENTER)\n",
    "\n",
    "\n",
    "#Dar scrol na tela toda\n",
    "for i in range(5):\n",
    "    driver.execute_script(f\"window.scroll(0,{5000*i});\")\n",
    "    time.sleep(3)\n",
    "    \n",
    "#PEGA O LINK DE TODOS OS VIDEOS CARREGADOS\n",
    "videos = driver.find_elements_by_id('thumbnail')\n",
    "\n",
    "time.sleep(2)\n",
    "for vide in videos:\n",
    "    print(vide.get_attribute('href'))"
   ]
  },
  {
   "cell_type": "markdown",
   "id": "6f14de94",
   "metadata": {},
   "source": [
    "## IFrame\n",
    "\n",
    "São páginas dentro de páginas no html\n",
    "\n",
    "É necessário acessar o iframe e pegar elementos dentro da nova página\n",
    "\n",
    "```python\n",
    "iframe = driver.find_element_by_tag_name(\"iframe\") #acha o elemento do ifram\n",
    "driver.switch_to.frame(iframe) #muda o foco da página para a página intern\n",
    "\n",
    "-------------\n",
    "Faz o que precisa fazer ná pagina inter\n",
    "---------------\n",
    "\n",
    "driver.switch_to.default_content() #volta para a página inicia\n",
    "```"
   ]
  },
  {
   "cell_type": "code",
   "execution_count": 10,
   "id": "554f8d24",
   "metadata": {},
   "outputs": [
    {
     "name": "stdout",
     "output_type": "stream",
     "text": [
      "2,13\n"
     ]
    }
   ],
   "source": [
    "from selenium import webdriver\n",
    "import time\n",
    "\n",
    "nav = webdriver.Chrome()\n",
    "\n",
    "nav.get(\"https://pbdatatrader.com.br/jogosdodia\")\n",
    "time.sleep(10)\n",
    "\n",
    "iframe = nav.find_element_by_tag_name(\"iframe\")\n",
    "nav.switch_to.frame(iframe)\n",
    "\n",
    "iframe = nav.find_element_by_tag_name(\"iframe\")\n",
    "nav.switch_to.frame(iframe)\n",
    "\n",
    "texto_elemento = nav.find_element_by_xpath('//*[@id=\"pvExplorationHost\"]/div/div/exploration/div/explore-canvas/div/div[2]/div/div[2]/div[2]/visual-container-repeat/visual-container[19]/transform/div/div[3]/div/visual-modern/div/div/div[2]/div[1]/div[4]/div/div[1]/div[7]/div[2]')\n",
    "\n",
    "print(texto_elemento.text)"
   ]
  }
 ],
 "metadata": {
  "kernelspec": {
   "display_name": "Python 3",
   "language": "python",
   "name": "python3"
  },
  "language_info": {
   "codemirror_mode": {
    "name": "ipython",
    "version": 3
   },
   "file_extension": ".py",
   "mimetype": "text/x-python",
   "name": "python",
   "nbconvert_exporter": "python",
   "pygments_lexer": "ipython3",
   "version": "3.8.8"
  }
 },
 "nbformat": 4,
 "nbformat_minor": 5
}
