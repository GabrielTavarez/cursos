{
 "cells": [
  {
   "cell_type": "markdown",
   "metadata": {},
   "source": [
    "### Desafio onde vamos aprender:\n",
    "\n",
    "- Na Hashtag, sempre analisamos o nosso \"Funil de Vendas\". Para isso, rastreamos de onde veio os alunos por meio de um código, do tipo:\n",
    "    - hashtag_site_org -> Pessoas que vieram pelo site da Hashtag\n",
    "    - hashtag_yt_org -> Pessoas que vieram pelo Youtube da Hashtag\n",
    "    - hashtag_ig_org -> Pessoas que vieram pelo Instagram da Hashtag\n",
    "    - hashtag_igfb_org -> Pessoas que vieram pelo Instagram ou Facebook da Hashtag\n",
    "\n",
    "Os códigos diferentes disso, são códigos de anúncio da Hashtag.\n",
    "\n",
    "- Queremos analisar quantos alunos vieram de anúncio e quantos vieram \"orgânico\".\n",
    "- Qual a melhor fonte \"orgânica\" de alunos\n",
    "\n",
    "Obs: orgânico é tudo aquilo que não veio de anúncios.\n",
    "\n",
    "No nosso sistema, conseguimos exportar um txt com as informações dos alunos, conforme o arquivo Alunos.txt<br>\n",
    "(Os dados foram gerados aleatoriamente para simular uma situação real, já que não podemos fornecer os dados reais dos alunos por questões de segurança)\n",
    "\n",
    "- No final, para treinar, vamos escrever todas essas respostas em um novo arquivo txt"
   ]
  },
  {
   "cell_type": "code",
   "execution_count": 26,
   "metadata": {},
   "outputs": [],
   "source": [
    "alunos = open(\"Alunos.txt\", \"r\")\n",
    "\n",
    "alunos_lista = alunos.readlines()\n",
    "\n",
    "num_alunos = int(alunos_lista[1][16:])\n",
    "\n",
    "site = \"hashtag_site_org\"\n",
    "yt = \"hashtag_yt_org\"\n",
    "ig = \"hashtag_ig_org\"\n",
    "ifgb = \"hashtag_igfb_org\"\n",
    "\n",
    "site_count_total=0\n",
    "yt_count_total = 0\n",
    "ig_count_total = 0\n",
    "ifgb_count_total = 0\n",
    "\n",
    "for i in range(num_alunos):\n",
    "    item = alunos_lista[i+4]\n",
    "    \n",
    "    site_count = item.count(site)\n",
    "    yt_count = item.count(yt)\n",
    "    ig_count = item.count(ig)\n",
    "    ifgb_count = item.count(ifgb)\n",
    "    \n",
    "    \n",
    "    \n",
    "    if site_count > 0:\n",
    "        site_count_total += site_count\n",
    "    if yt_count > 0:\n",
    "        yt_count_total += yt_count\n",
    "    if ig_count > 0:\n",
    "        ig_count_total += ig_count\n",
    "    if ifgb_count >0:\n",
    "        ifgb_count_total += ifgb_count\n",
    "\n",
    "alunos.close()\n",
    "\n",
    "relatorio = open('Relatorio.txt', 'w') \n",
    "relatorio.write(\"\"\"[RELATÓRIO DE ALUNOS]\n",
    "\n",
    "Número de visitantes pelo site: {}\n",
    "Número de visitantes pelo youtube: {}\n",
    "Número de visitantes pelo instagram: {}\n",
    "Número de visitantes pelo Instagram ou Facebook: {}\"\"\".format(site_count_total,yt_count_total,ig_count_total,ifgb_count_total))\n",
    "\n",
    "relatorio.close()"
   ]
  },
  {
   "cell_type": "code",
   "execution_count": 24,
   "metadata": {},
   "outputs": [
    {
     "data": {
      "text/plain": [
       "0"
      ]
     },
     "execution_count": 24,
     "metadata": {},
     "output_type": "execute_result"
    }
   ],
   "source": []
  }
 ],
 "metadata": {
  "kernelspec": {
   "display_name": "Python 3",
   "language": "python",
   "name": "python3"
  },
  "language_info": {
   "codemirror_mode": {
    "name": "ipython",
    "version": 3
   },
   "file_extension": ".py",
   "mimetype": "text/x-python",
   "name": "python",
   "nbconvert_exporter": "python",
   "pygments_lexer": "ipython3",
   "version": "3.8.8"
  }
 },
 "nbformat": 4,
 "nbformat_minor": 4
}
