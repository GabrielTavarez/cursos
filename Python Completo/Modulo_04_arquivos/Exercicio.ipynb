{
 "cells": [
  {
   "cell_type": "markdown",
   "metadata": {},
   "source": [
    "### Desafio\n",
    "\n",
    "Você trabalha em uma empresa que tem 18 lojas espalhadas por todo o Brasil e divididas em 5 estados diferentes:\n",
    "- RJ\n",
    "- SP\n",
    "- MG\n",
    "- GO\n",
    "- AM\n",
    "\n",
    "Todo trimestre, são calculados os indicadores de cada funcionário de cada loja e esses indicadores são armazenados em um arquivo em Excel.\n",
    "\n",
    "Cada estado tem 1 Gerente Geral responsável por todas as lojas daqueles estados.\n",
    "\n",
    "Pediram para você enviar para cada Gerente Geral todas as bases de indicadores correspondentes às lojas que ele é responsável, porque a equipe deles precisa desses indicadores.\n",
    "\n",
    "Obs: Não vamos enviar por e-mail porque ainda não aprendemos a fazer isso, mas vamos deixar todos os arquivos em uma pasta única para cada gerente, ou seja, para cada estado.\n",
    "\n",
    "Então o seu desafio é separar todos os arquivos de forma que cada arquivo esteja na pasta do estado correspondente aquele arquivo.\n",
    "\n",
    "Obs: Para pegar o nome de um arquivo como um texto no pathlib, você pode usar Path.name ou arquivo.name:<br>\n",
    "caminho = Path('Pasta/Arquivo.csv')<br>\n",
    "print(caminho.name) -> resposta: 'Arquivo.csv'"
   ]
  },
  {
   "cell_type": "code",
   "execution_count": 23,
   "metadata": {},
   "outputs": [],
   "source": [
    "import pathlib\n",
    "from pathlib import Path\n",
    "import shutil\n",
    "\n",
    "## [CRIAÇÃO DE PASTAS] ##\n",
    "pasta_auxiliar = Path.cwd()/Path('Pasta Auxiliar')\n",
    "\n",
    "pasta_RJ = pasta_auxiliar / Path('RJ')\n",
    "pasta_SP = pasta_auxiliar / Path('SP')\n",
    "pasta_MG = pasta_auxiliar / Path('MG')\n",
    "pasta_GO = pasta_auxiliar / Path('GO')\n",
    "pasta_AM = pasta_auxiliar / Path('AM')\n",
    "\n",
    "if not(pasta_RJ.exists()):\n",
    "    pasta_RJ.mkdir()\n",
    "if not(pasta_SP.exists()):\n",
    "    pasta_SP.mkdir()\n",
    "if not(pasta_MG.exists()):\n",
    "    pasta_MG.mkdir()\n",
    "if not(pasta_GO.exists()):\n",
    "    pasta_GO.mkdir()\n",
    "if not(pasta_AM.exists()):\n",
    "    pasta_AM.mkdir()\n",
    "\n",
    "## [PRGANIZAÇÃO DE ARQUIVOS] ##\n",
    "    \n",
    "arquivos_lojas = Path.cwd()/Path('Arquivos_Lojas')\n",
    "arquivos = arquivos_lojas.iterdir()\n",
    "\n",
    "for arquivo in arquivos:\n",
    "    if 'RJ' in arquivo.name:\n",
    "        shutil.copy2(arquivo, pasta_RJ / Path(arquivo.name))\n",
    "    if 'SP' in arquivo.name:\n",
    "        shutil.copy2(arquivo, pasta_SP / Path(arquivo.name))\n",
    "    if 'MG' in arquivo.name:\n",
    "        shutil.copy2(arquivo, pasta_MG / Path(arquivo.name))\n",
    "    if 'GO' in arquivo.name:\n",
    "        shutil.copy2(arquivo, pasta_GO / Path(arquivo.name))\n",
    "    if 'AM' in arquivo.name:\n",
    "        shutil.copy2(arquivo, pasta_AM / Path(arquivo.name))"
   ]
  }
 ],
 "metadata": {
  "kernelspec": {
   "display_name": "Python 3",
   "language": "python",
   "name": "python3"
  },
  "language_info": {
   "codemirror_mode": {
    "name": "ipython",
    "version": 3
   },
   "file_extension": ".py",
   "mimetype": "text/x-python",
   "name": "python",
   "nbconvert_exporter": "python",
   "pygments_lexer": "ipython3",
   "version": "3.8.8"
  }
 },
 "nbformat": 4,
 "nbformat_minor": 4
}
