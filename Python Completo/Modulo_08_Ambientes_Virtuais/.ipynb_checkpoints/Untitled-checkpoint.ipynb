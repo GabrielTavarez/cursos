{
 "cells": [
  {
   "cell_type": "markdown",
   "id": "9e3e511f",
   "metadata": {},
   "source": [
    "Ambiente virtual é a instalação do python e seus módulos em uma pasta isolada do computador"
   ]
  },
  {
   "cell_type": "markdown",
   "id": "26f0f5f9",
   "metadata": {},
   "source": [
    "### Passo a Passo"
   ]
  },
  {
   "cell_type": "markdown",
   "id": "233efb39",
   "metadata": {},
   "source": [
    "abrir o Prompt até a pasta que deseja instalar o python"
   ]
  },
  {
   "cell_type": "markdown",
   "id": "22a01b0b",
   "metadata": {},
   "source": [
    "* Criar ambiente ambiente virtual com a versão instalada do python\n",
    "\n",
    "```conda create -n nome_do_ambiente_virtaul```\n",
    "\n",
    "* Criar ambiente ambiente virtual com a versão diferente do python\n",
    "\n",
    "```conda create -n nome_do_ambiente_virtaul python=3.6```\n",
    "\n",
    "\n",
    "* Ativar o novo ambiente\n",
    "\n",
    "```conda activate nome_do_ambiente_virtaul```\n",
    "\n",
    "Redirecionará os comando python para este ambiente virtual\n",
    "\n",
    "* Desativar o novo ambiente\n",
    "\n",
    "```conda deactivate ```\n",
    "\n",
    "* Exluir ambiente\n",
    "\n",
    "```conda remove --name nome_do_ambiente_virtaul --all ```"
   ]
  }
 ],
 "metadata": {
  "kernelspec": {
   "display_name": "Python 3",
   "language": "python",
   "name": "python3"
  },
  "language_info": {
   "codemirror_mode": {
    "name": "ipython",
    "version": 3
   },
   "file_extension": ".py",
   "mimetype": "text/x-python",
   "name": "python",
   "nbconvert_exporter": "python",
   "pygments_lexer": "ipython3",
   "version": "3.8.8"
  }
 },
 "nbformat": 4,
 "nbformat_minor": 5
}
