{
 "cells": [
  {
   "cell_type": "code",
   "execution_count": 1,
   "id": "412fbe15",
   "metadata": {},
   "outputs": [],
   "source": [
    "import tkinter as tk"
   ]
  },
  {
   "cell_type": "markdown",
   "id": "c44f5c58",
   "metadata": {},
   "source": [
    "## Criar janela\n",
    "\n",
    "Necessário criar uma janela com o método **Tk()** \n",
    "\n",
    "Para o grid ser responsível, usa o método **rowconfigure** e **columnconfigure**\n",
    "\n",
    "```janela.rowconfigure(lista_linhas_alterada, weight=ajuste)```\n",
    "\n",
    "obs: ajuste = 0 -> não responsível. ajuste = 1 -> responsível\n",
    "\n",
    "\n",
    "## Adicionar elementos na janela\n",
    "\n",
    "\n",
    "Após criar a janela, é necessário adicionar os objetos na janela com o método **pack()** ou\n",
    "\n",
    "```.grid(row = linha, column = coluna, columnspan = colunas_usadas, stick = lados_fixados)```\n",
    "\n",
    "\n",
    "obs: parâmetro **stick** usa o padrão \"nsew\" (norte sul, leste oeste) para indicar qual parade fixar\n",
    "\n",
    "### Textos escritos\n",
    "\n",
    "```tk.Label(text = menagem, fg = cor_letra, bg = cor_fundo, width = largura, height = altura)```\n",
    "\n",
    "Para alterar algum atributo de Label, acessar ele como um dicionário \n",
    "\n",
    "ex. mensagem['text'] = 'novo texto'\n",
    "\n",
    "### Caixa de texto \n",
    "\n",
    "```tk.Entry()```\n",
    "\n",
    "para pegar o que tiver nessa caixa de texto usar o método **get( )**\n",
    "\n",
    "### Botão\n",
    "\n",
    "```tk.Button(text = texto, comand = funcao)```\n",
    "\n",
    "obs: Função tem acesso a todos os elementos da janela"
   ]
  },
  {
   "cell_type": "code",
   "execution_count": 48,
   "id": "c18ad49b",
   "metadata": {},
   "outputs": [],
   "source": [
    "janela = tk.Tk()\n",
    "janela.rowconfigure(0, weight = 1)\n",
    "janela.columnconfigure([0,1], weight=1)\n",
    "\n",
    "\n",
    "mensagem1 = tk.Label(text = \"bolinha redondinha\", fg='white', bg = '#444444', width = 30)\n",
    "mensagem1.grid(row = 0, column = 0, stick = 'nsew', columnspan=2)\n",
    "\n",
    "mensagem2 = tk.Label(text = \"insira seu texto\", fg='#111111', bg = '#cccccc', width = 30)\n",
    "mensagem2.grid(row = 1, column = 0, stick = 'nsew')\n",
    "\n",
    "\n",
    "caixa_texto = tk.Entry()\n",
    "caixa_texto.grid(row = 1, column = 1, stick = 'nsew')\n",
    "\n",
    "botao = tk.Button(text='buscar', command = acao_botao)\n",
    "botao.grid(row=2, column=1)\n",
    "\n",
    "resposta = tk.Label(text='Você digitou : ')\n",
    "resposta.grid(row = 2, column = 0)\n",
    "\n",
    "janela.mainloop()"
   ]
  },
  {
   "cell_type": "code",
   "execution_count": 47,
   "id": "d40d23ca",
   "metadata": {},
   "outputs": [],
   "source": [
    "def acao_botao():\n",
    "    texto = caixa_texto.get()\n",
    "    resposta['text'] = 'Você digitou : '+ texto"
   ]
  },
  {
   "cell_type": "markdown",
   "id": "58a728bd",
   "metadata": {},
   "source": [
    "Edições da janela\n",
    "\n",
    "janela.title(text=\"nome da janela\")"
   ]
  },
  {
   "cell_type": "markdown",
   "id": "34dd10a5",
   "metadata": {},
   "source": [
    "Método **mainloop()** cria um loop de exibição da janela"
   ]
  },
  {
   "cell_type": "code",
   "execution_count": 14,
   "id": "1d79ec51",
   "metadata": {},
   "outputs": [],
   "source": [
    "janela.mainloop()"
   ]
  },
  {
   "cell_type": "code",
   "execution_count": null,
   "id": "cccbab7e",
   "metadata": {},
   "outputs": [],
   "source": []
  }
 ],
 "metadata": {
  "kernelspec": {
   "display_name": "Python 3",
   "language": "python",
   "name": "python3"
  },
  "language_info": {
   "codemirror_mode": {
    "name": "ipython",
    "version": 3
   },
   "file_extension": ".py",
   "mimetype": "text/x-python",
   "name": "python",
   "nbconvert_exporter": "python",
   "pygments_lexer": "ipython3",
   "version": "3.8.8"
  }
 },
 "nbformat": 4,
 "nbformat_minor": 5
}
