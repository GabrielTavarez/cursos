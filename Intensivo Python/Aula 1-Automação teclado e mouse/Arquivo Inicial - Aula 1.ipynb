{
 "cells": [
  {
   "cell_type": "markdown",
   "metadata": {},
   "source": [
    "# Automação de Sistemas e Processos com Python\n",
    "\n",
    "### Desafio:\n",
    "\n",
    "Todos os dias, o nosso sistema atualiza as vendas do dia anterior.\n",
    "O seu trabalho diário, como analista, é enviar um e-mail para a diretoria, assim que começar a trabalhar, com o faturamento e a quantidade de produtos vendidos no dia anterior\n",
    "\n",
    "E-mail da diretoria: seugmail+diretoria@gmail.com<br>\n",
    "Local onde o sistema disponibiliza as vendas do dia anterior: https://drive.google.com/drive/folders/149xknr9JvrlEnhNWO49zPcw0PW5icxga?usp=sharing\n",
    "\n",
    "Para resolver isso, vamos usar o pyautogui, uma biblioteca de automação de comandos do mouse e do teclado"
   ]
  },
  {
   "cell_type": "code",
   "execution_count": 1,
   "metadata": {},
   "outputs": [],
   "source": [
    "import pyautogui\n",
    "import pyperclip\n",
    "import time\n",
    "import pandas as pd\n",
    "import os\n",
    "\n",
    "\n",
    "pyautogui.PAUSE =1 #define uma pausa de 1 segundo a cada comando\n",
    "\n",
    "### ABRE PASTA ###\n",
    "pyautogui.hotkey(\"ctrl\",\"t\") #abre nova guia do chrome\n",
    "link = \"https://drive.google.com/drive/folders/149xknr9JvrlEnhNWO49zPcw0PW5icxga?usp=sharing\"\n",
    "pyperclip.copy(link) #copia link na área de transferencia\n",
    "pyautogui.hotkey(\"ctrl\", \"v\") #cola link da árrea de transferencia\n",
    "pyautogui.press(\"enter\") \n",
    "time.sleep(10) #aguarda a pasta carregar\n",
    "\n",
    "### BAIXA ARQUIVO ###\n",
    "pyautogui.click(x=339, y=328, clicks=2) #seleciona a pasta do arquivo\n",
    "time.sleep(2) #espera a pagina carregar\n",
    "pyautogui.click(x=334, y=366) #seleciona o arquivo\n",
    "pyautogui.click(x=1728, y=219) #seleciona as opçãos\n",
    "pyautogui.click(x=1488, y=660) #seleciona download\n",
    "time.sleep(5) #espera o arquivo ser baixado\n",
    "\n",
    "### LE ARQUIVO ###\n",
    "tabela = pd.read_excel(r\"C:\\Users\\gabri\\Downloads\\Vendas - Dez.xlsx\") #le o excel em um dataframe\n",
    "valor_final = tabela[\"Valor Final\"].sum() #soma valores\n",
    "quantidade = tabela[\"Quantidade\"].sum() #soma valores\n",
    "\n",
    "### ABRE EMAIL ###\n",
    "pyautogui.hotkey(\"ctrl\",\"t\") #abre nova guia do chrome\n",
    "link = \"http://email.usp.br/\"\n",
    "pyperclip.copy(link) #copia link na área de transferencia\n",
    "pyautogui.hotkey(\"ctrl\", \"v\") #cola link da área de transferencia\n",
    "pyautogui.press(\"enter\") \n",
    "time.sleep(10) #aguarda o site carregar\n",
    "\n",
    "### ENVIA EMAIL ###\n",
    "pyautogui.PAUSE =2 #define uma pausa de 1 segundo a cada comando\n",
    "\n",
    "pyautogui.click(x=110, y=238) #clica em novo email\n",
    "time.sleep(2)\n",
    "pyautogui.click(x=1472, y=597) #fecha mailtrack\n",
    "time.sleep(5) #espera pop up do mailtrck\n",
    "pyautogui.click(x=1357, y=235) #fecha pop up do mail track\n",
    "\n",
    "pyautogui.click(x=1361, y=421) #clica em destinatario\n",
    "destinatario = r\"gabriel.tavarez@usp.br\"\n",
    "pyperclip.copy(destinatario) \n",
    "pyautogui.hotkey(\"ctrl\", \"v\") #cola link da área de transferencia\n",
    "pyautogui.press('tab')\n",
    "\n",
    "assunto = r\"Relatório\"\n",
    "pyperclip.copy(assunto) \n",
    "pyautogui.hotkey(\"ctrl\", \"v\") #cola link da área de transferencia\n",
    "pyautogui.press('tab')\n",
    "\n",
    "\n",
    "texto = f\"\"\"Relatório de vendas:\n",
    "\n",
    "Valor faturado : R${valor_final:,.2f}\n",
    "Quantidade de vendas : {quantidade:,}\n",
    "\n",
    "Att, Gabriel.\n",
    "\"\"\"\n",
    "pyperclip.copy(texto)\n",
    "pyautogui.hotkey(\"ctrl\", \"v\") #cola link da área de transferencia\n",
    "pyautogui.click(x=1293, y=927)\n",
    "\n",
    "os.remove(r\"C:\\Users\\gabri\\Downloads\\Vendas - Dez.xlsx\")\n",
    "\n"
   ]
  },
  {
   "cell_type": "code",
   "execution_count": 2,
   "metadata": {},
   "outputs": [
    {
     "data": {
      "text/plain": [
       "Point(x=452, y=467)"
      ]
     },
     "execution_count": 2,
     "metadata": {},
     "output_type": "execute_result"
    }
   ],
   "source": [
    "#BLOCO DE IDENTIFICADOR DE POSIÇÃO DE CLICKS\n",
    "import time\n",
    "time.sleep(5)\n",
    "pyautogui.position()"
   ]
  }
 ],
 "metadata": {
  "kernelspec": {
   "display_name": "Python 3",
   "language": "python",
   "name": "python3"
  },
  "language_info": {
   "codemirror_mode": {
    "name": "ipython",
    "version": 3
   },
   "file_extension": ".py",
   "mimetype": "text/x-python",
   "name": "python",
   "nbconvert_exporter": "python",
   "pygments_lexer": "ipython3",
   "version": "3.8.8"
  }
 },
 "nbformat": 4,
 "nbformat_minor": 4
}
